{
 "cells": [
  {
   "cell_type": "code",
   "execution_count": 18,
   "metadata": {},
   "outputs": [],
   "source": [
    "import tensorflow as tf\n",
    "import numpy as np\n",
    "import random\n",
    "\n",
    "\n",
    "from tensorflow.keras import datasets, layers, models"
   ]
  },
  {
   "cell_type": "code",
   "execution_count": 6,
   "metadata": {},
   "outputs": [
    {
     "name": "stdout",
     "output_type": "stream",
     "text": [
      "Downloading data from https://www.cs.toronto.edu/~kriz/cifar-100-python.tar.gz\n",
      "169009152/169001437 [==============================] - 1999s 12us/step\n"
     ]
    }
   ],
   "source": [
    "(train_images, train_labels), (test_images, test_labels) = datasets.cifar100.load_data()\n",
    "\n",
    "# Normalize pixel values to be between 0 and 1\n",
    "train_images, test_images = train_images / 255.0, test_images / 255.0"
   ]
  },
  {
   "cell_type": "code",
   "execution_count": 52,
   "metadata": {},
   "outputs": [],
   "source": [
    "class dataset():\n",
    "    \n",
    "    def __init__(self, name):\n",
    "        \n",
    "        self.asym_map = {0:0,2:0,4:7,7:7,1:1,9:1,3:5,5:3,6:6,8:8}\n",
    "        \n",
    "        if name == 'cifar10':\n",
    "            (self.train_images, self.train_labels), (self.test_images, self.test_labels) = datasets.cifar10.load_data()\n",
    "        elif name == 'cifar100':\n",
    "            (self.train_images, self.train_labels), (self.test_images, self.test_labels) = datasets.cifar100.load_data()\n",
    "            \n",
    "\n",
    "    def noisify(self, mode, ratio = 0.8):\n",
    "        \n",
    "        mask = np.random.choice(2, len(self.train_labels), p = [1 - ratio, ratio])\n",
    "        self.noisy_train_labels = self.train_labels.copy()\n",
    "        \n",
    "        for i in range(len(self.train_labels)):          \n",
    "            if mask[i]:\n",
    "                if mode == 'symm':\n",
    "                    self.noisy_train_labels[i] = random.randint(0, len(np.unique(self.train_labels)))\n",
    "                elif mode == 'asymm':\n",
    "                    self.noisy_train_labels[i] = self.asym_map[self.train_labels[i][0]]       "
   ]
  },
  {
   "cell_type": "code",
   "execution_count": 53,
   "metadata": {},
   "outputs": [
    {
     "name": "stdout",
     "output_type": "stream",
     "text": [
      "[0.6003]\n"
     ]
    }
   ],
   "source": []
  },
  {
   "cell_type": "code",
   "execution_count": 41,
   "metadata": {},
   "outputs": [
    {
     "name": "stdout",
     "output_type": "stream",
     "text": [
      "[[19]\n",
      " [29]\n",
      " [ 0]\n",
      " [11]\n",
      " [ 1]\n",
      " [86]\n",
      " [90]\n",
      " [28]\n",
      " [23]\n",
      " [31]]\n"
     ]
    }
   ],
   "source": []
  },
  {
   "cell_type": "code",
   "execution_count": 21,
   "metadata": {},
   "outputs": [
    {
     "name": "stdout",
     "output_type": "stream",
     "text": [
      "[0.81944]\n"
     ]
    }
   ],
   "source": [
    "print(sum(cifar10.train_labels == cifar10.noisy_train_labels)/len(cifar10.train_labels))"
   ]
  },
  {
   "cell_type": "code",
   "execution_count": null,
   "metadata": {},
   "outputs": [],
   "source": []
  },
  {
   "cell_type": "code",
   "execution_count": null,
   "metadata": {},
   "outputs": [],
   "source": []
  },
  {
   "cell_type": "code",
   "execution_count": null,
   "metadata": {},
   "outputs": [],
   "source": []
  },
  {
   "cell_type": "code",
   "execution_count": null,
   "metadata": {},
   "outputs": [],
   "source": []
  },
  {
   "cell_type": "code",
   "execution_count": null,
   "metadata": {},
   "outputs": [],
   "source": []
  },
  {
   "cell_type": "code",
   "execution_count": null,
   "metadata": {},
   "outputs": [],
   "source": []
  },
  {
   "cell_type": "code",
   "execution_count": null,
   "metadata": {},
   "outputs": [],
   "source": []
  }
 ],
 "metadata": {
  "kernelspec": {
   "display_name": "Python 3",
   "language": "python",
   "name": "python3"
  },
  "language_info": {
   "codemirror_mode": {
    "name": "ipython",
    "version": 3
   },
   "file_extension": ".py",
   "mimetype": "text/x-python",
   "name": "python",
   "nbconvert_exporter": "python",
   "pygments_lexer": "ipython3",
   "version": "3.8.3"
  }
 },
 "nbformat": 4,
 "nbformat_minor": 4
}
